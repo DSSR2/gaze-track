{
 "cells": [
  {
   "cell_type": "code",
   "execution_count": null,
   "id": "0d68a31c-fa59-4a1f-a640-44dbd475f61e",
   "metadata": {},
   "outputs": [],
   "source": [
    "import torch\n",
    "import os\n",
    "import random\n",
    "import numpy as np\n",
    "import cv2\n",
    "\n",
    "from PIL import Image\n",
    "from glob import glob\n",
    "from tqdm import tqdm\n",
    "from torch.utils.data import DataLoader, Dataset\n",
    "import matplotlib.pyplot as plt\n",
    "import json\n",
    "import pytorch_lightning as pl\n",
    "import sys\n",
    "sys.path.append('FaceEyeUtils')\n",
    "from mobilenet import create_mobilenetv2_ssd_lite, create_mobilenetv2_ssd_lite_predictor\n",
    "root = os.environ['SLURM_TMPDIR']"
   ]
  }
 ],
 "metadata": {
  "kernelspec": {
   "display_name": "Python 3.8",
   "language": "python",
   "name": "python3"
  },
  "language_info": {
   "codemirror_mode": {
    "name": "ipython",
    "version": 3
   },
   "file_extension": ".py",
   "mimetype": "text/x-python",
   "name": "python",
   "nbconvert_exporter": "python",
   "pygments_lexer": "ipython3",
   "version": "3.8.2"
  }
 },
 "nbformat": 4,
 "nbformat_minor": 5
}
